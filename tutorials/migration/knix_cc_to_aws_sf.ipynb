{
 "cells": [
  {
   "cell_type": "markdown",
   "metadata": {},
   "source": [
    "# Copyright 2020 The KNIX Authors\n",
    "\n",
    "Licensed under the Apache License, Version 2.0 (the \"License\"); you may not use this file except in compliance with the License. You may obtain a copy of the License at\n",
    "\n",
    "   http://www.apache.org/licenses/LICENSE-2.0\n",
    "\n",
    "Unless required by applicable law or agreed to in writing, software distributed under the License is distributed on an \"AS IS\" BASIS, WITHOUT WARRANTIES OR CONDITIONS OF ANY KIND, either express or implied. See the License for the specific language governing permissions and limitations under the License."
   ]
  },
  {
   "cell_type": "markdown",
   "metadata": {},
   "source": [
    "# Migrating workflows from KNIX to AWS Stepfunctions\n",
    "\n",
    "KNIX is compatible with AWS Lambda and Step Functions with expanded support for sophisticated parallel executions.\n",
    "\n",
    "## Goal for this Notebook:\n",
    "Show a simple example of migrating a sample workflow in Python, using SDKs provided for both AWS and KNIX. This is aimed for those looking to get into the field or those who are already in the field and looking to see an example how to move existing workflows between AWS and KNIX.\n",
    "\n",
    "### This Notebook will show basic examples of:\n",
    "* Importing SDKs\n",
    "* Generating and using SDK objects\n",
    "* converting KNIX names to valid ARNs\n",
    "* Importing and exporting worflow and function definitions\n",
    "\n",
    "### Required Libraries:\n",
    "* [json] (http://www.json.org/)\n",
    "* [zipfile] (https://docs.python.org/3/library/zipfile)\n",
    "\n",
    "### Things to remember:\n",
    "* In Step-Functions workflow descriptions, 'Resource' ARN needs to be changed into real Lambda ARNs. This can be achieved by prepending a fixed, user-specific prefix of the form of \"arn:aws:lambda:eu-central-1:123456789012:function:\" . Note this step does not require any change in user code.\n",
    "\n",
    "* In Lambda,  function handler needs to be configured when creating the function. In KNIX the function handler name must always be called \"handle\". Note this step does not require changing user code.\n",
    "\n",
    "* KNIX users should put the libraries that they would like to be part of LD_LIBRARY_PATH in a ./lib/ folder, which is inside their deployment zip and sits parallel to their fuction code (referring to the .py file that has the 'handle' method)\n",
    "\n",
    "* In KNIX, if user's deployment zip contains ELF executable binaries that can be invoked from the python code (using the subprocess module), then these binaries should be invoked using their complete path, and not via symbolic links to them.\n",
    "\n",
    "* User code in Lambda is only allowed to create files in /tmp, whereas, in KNIX the entire filesystem is writable.\n",
    "\n",
    "\n",
    "## Now let's start to migrate a workflow from KNIX to AWS. \n",
    "\n",
    "First, install the required AWS SDK. Please note that you need to configure your credentials for using this SDK, e.g by adding your credentials to ~/.aws/config:\n"
   ]
  },
  {
   "cell_type": "code",
   "execution_count": 1,
   "metadata": {},
   "outputs": [
    {
     "name": "stdout",
     "output_type": "stream",
     "text": [
      "Collecting boto3\n",
      "  Using cached https://files.pythonhosted.org/packages/1d/3e/95edad6297483d8d4985486f54c8c5441bdd5f0726918dbfe26cd32bc6a4/boto3-1.14.3-py2.py3-none-any.whl\n",
      "Collecting s3transfer<0.4.0,>=0.3.0 (from boto3)\n",
      "  Using cached https://files.pythonhosted.org/packages/69/79/e6afb3d8b0b4e96cefbdc690f741d7dd24547ff1f94240c997a26fa908d3/s3transfer-0.3.3-py2.py3-none-any.whl\n",
      "Collecting jmespath<1.0.0,>=0.7.1 (from boto3)\n",
      "  Using cached https://files.pythonhosted.org/packages/07/cb/5f001272b6faeb23c1c9e0acc04d48eaaf5c862c17709d20e3469c6e0139/jmespath-0.10.0-py2.py3-none-any.whl\n",
      "Collecting botocore<1.18.0,>=1.17.3 (from boto3)\n",
      "  Using cached https://files.pythonhosted.org/packages/b7/15/fb65d9dc6194dc9f1a9cd5f4c64c884288919562fe84159641d6154318f4/botocore-1.17.3-py2.py3-none-any.whl\n",
      "Collecting docutils<0.16,>=0.10 (from botocore<1.18.0,>=1.17.3->boto3)\n",
      "  Using cached https://files.pythonhosted.org/packages/22/cd/a6aa959dca619918ccb55023b4cb151949c64d4d5d55b3f4ffd7eee0c6e8/docutils-0.15.2-py3-none-any.whl\n",
      "Collecting python-dateutil<3.0.0,>=2.1 (from botocore<1.18.0,>=1.17.3->boto3)\n",
      "  Using cached https://files.pythonhosted.org/packages/d4/70/d60450c3dd48ef87586924207ae8907090de0b306af2bce5d134d78615cb/python_dateutil-2.8.1-py2.py3-none-any.whl\n",
      "Collecting urllib3<1.26,>=1.20; python_version != \"3.4\" (from botocore<1.18.0,>=1.17.3->boto3)\n",
      "  Using cached https://files.pythonhosted.org/packages/e1/e5/df302e8017440f111c11cc41a6b432838672f5a70aa29227bf58149dc72f/urllib3-1.25.9-py2.py3-none-any.whl\n",
      "Collecting six>=1.5 (from python-dateutil<3.0.0,>=2.1->botocore<1.18.0,>=1.17.3->boto3)\n",
      "  Using cached https://files.pythonhosted.org/packages/ee/ff/48bde5c0f013094d729fe4b0316ba2a24774b3ff1c52d924a8a4cb04078a/six-1.15.0-py2.py3-none-any.whl\n",
      "Installing collected packages: docutils, six, python-dateutil, urllib3, jmespath, botocore, s3transfer, boto3\n",
      "Successfully installed boto3-1.14.3 botocore-1.17.3 docutils-0.16 jmespath-0.10.0 python-dateutil-2.8.1 s3transfer-0.3.3 six-1.15.0 urllib3-1.25.9\n",
      "Note: you may need to restart the kernel to use updated packages.\n"
     ]
    }
   ],
   "source": [
    "pip install boto3"
   ]
  },
  {
   "cell_type": "markdown",
   "metadata": {},
   "source": [
    "Now import the required librares:"
   ]
  },
  {
   "cell_type": "code",
   "execution_count": 2,
   "metadata": {},
   "outputs": [],
   "source": [
    "import json\n",
    "from zipfile import ZipFile\n",
    "from mfn_sdk import MfnClient\n",
    "import boto3\n",
    "from botocore.exceptions import ClientError"
   ]
  },
  {
   "cell_type": "markdown",
   "metadata": {},
   "source": [
    "get a boto3 client object for the StepFunctions service:"
   ]
  },
  {
   "cell_type": "code",
   "execution_count": 3,
   "metadata": {},
   "outputs": [],
   "source": [
    "client_sf = boto3.client('stepfunctions')"
   ]
  },
  {
   "cell_type": "markdown",
   "metadata": {},
   "source": [
    "get a boto3 client object for the Identity and Access Management service:"
   ]
  },
  {
   "cell_type": "code",
   "execution_count": 4,
   "metadata": {},
   "outputs": [],
   "source": [
    "# Create IAM client\n",
    "iam = boto3.client('iam')"
   ]
  },
  {
   "cell_type": "markdown",
   "metadata": {},
   "source": [
    "create an execution role for the AWS Stepfunctions service "
   ]
  },
  {
   "cell_type": "code",
   "execution_count": 5,
   "metadata": {},
   "outputs": [
    {
     "name": "stdout",
     "output_type": "stream",
     "text": [
      "arn:aws:iam::218181671562:role/service-role/tutorialStepFunctionsPolicy\n"
     ]
    }
   ],
   "source": [
    "try: \n",
    "    response = iam.get_role(RoleName='tutorialStepFunctionsPolicy')\n",
    "    print(response['Role']['Arn'])\n",
    "    awsSfRoleArn  = response['Role']['Arn']\n",
    "except ClientError as e:\n",
    "    print(e)\n",
    "    response = iam.create_role(\n",
    "        Path='/service-role/',\n",
    "        RoleName='tutorialStepFunctionsPolicy', \n",
    "        AssumeRolePolicyDocument='{\"Version\": \"2012-10-17\", \"Statement\": [{\"Effect\": \"Allow\", \"Principal\": {\"Service\": \"states.eu-central-1.amazonaws.com\"}, \"Action\": \"sts:AssumeRole\"}]}',\n",
    "        Description='KNIX migration tutorial',\n",
    "        MaxSessionDuration=3600)\n",
    "    awsSfRoleArn  = response['Role']['Arn']"
   ]
  },
  {
   "cell_type": "code",
   "execution_count": 6,
   "metadata": {},
   "outputs": [],
   "source": [
    "awsSfRoleArn = response['Role']['Arn']"
   ]
  },
  {
   "cell_type": "markdown",
   "metadata": {},
   "source": [
    "Now use your credentials to get a knix client object:"
   ]
  },
  {
   "cell_type": "code",
   "execution_count": 7,
   "metadata": {},
   "outputs": [],
   "source": [
    "client_mfn = MfnClient(\n",
    "    #mfn_url=\"http://knix.io/mfn\",\n",
    "    mfn_url=\"http://localhost:8080\",\n",
    "    mfn_user=\"mfn@mfn\",\n",
    "    mfn_password=\"mfn\",\n",
    "    mfn_name=\"KS\",\n",
    "    proxies={\"http_proxy\": \"None\", \"https_proxy\": \"None\"}\n",
    "    )"
   ]
  },
  {
   "cell_type": "markdown",
   "metadata": {},
   "source": [
    "We need a few parameters to prepare the data access to AWS services suchas as Lambda and Stepfunctions:\n",
    "* lambdaprefix: the ARN name prefix for AWS Lambda functions\n",
    "* awsSfRoleName: the name (ARN) allowing the boto3 client to access the the AWS Stepfunctions service\n",
    "* knixWfName: the name of the source workflow on KNIX\n",
    "* sfWFName: the name of the target workflow on AWS Stepfunctions"
   ]
  },
  {
   "cell_type": "code",
   "execution_count": 8,
   "metadata": {},
   "outputs": [],
   "source": [
    "user_id = str(boto3.resource('iam').CurrentUser().arn.split(\":\")[4])\n",
    "lambdaPrefix = \"arn:aws:lambda:eu-central-1:%s:function:\" % user_id \n",
    "awsSfRoleName = awsSfRoleArn  \n",
    "sfWFName = \"CallCenterStateMachine\"\n",
    "knixWfName = \"test_wf_knix\" "
   ]
  },
  {
   "cell_type": "code",
   "execution_count": 9,
   "metadata": {},
   "outputs": [],
   "source": [
    "for w in client_mfn.workflows:\n",
    "    if w.name == knixWfName:\n",
    "       knixWf = w.json\n",
    "    else:\n",
    "        raise Exception(\"Error: knix workflow not found!\")"
   ]
  },
  {
   "cell_type": "markdown",
   "metadata": {},
   "source": [
    "Now, knixWf contains the source workflow definition, now lets get the corresponding KNIX Function definitions. The names of these functions need to be translated to valid ARNs for the transfer to AWS StepFunctions using a name prefix.   "
   ]
  },
  {
   "cell_type": "code",
   "execution_count": 10,
   "metadata": {},
   "outputs": [
    {
     "name": "stdout",
     "output_type": "stream",
     "text": [
      "processing AssignCaseFunction\n",
      "processing CloseCaseFunction\n",
      "processing EscalateCaseFunction\n",
      "processing Non-Task state\n",
      "processing Non-Task state\n",
      "processing OpenCaseFunction\n",
      "processing WorkOnCaseFunction\n"
     ]
    }
   ],
   "source": [
    "knixWf = json.loads(knixWf)\n",
    "#print(\"Processing %s ... \" % knixWfName)\n",
    "\n",
    "for att, val in knixWf['States'].items():\n",
    "    if \"Resource\" in list(val.keys()):\n",
    "        val['Resource'] =  lambdaPrefix + val['Resource']\n",
    "        print (\"processing \" + val['Resource'].split(\":\")[-1])\n",
    "    else:\n",
    "        print(\"processing Non-Task state\")        \n",
    "        pass"
   ]
  },
  {
   "cell_type": "markdown",
   "metadata": {},
   "source": [
    "Let's check the resulting StepFunctions workflow definition json before uploading it to AWS:"
   ]
  },
  {
   "cell_type": "code",
   "execution_count": 11,
   "metadata": {},
   "outputs": [],
   "source": [
    "sf_def = json.dumps(knixWf, indent = 6)\n"
   ]
  },
  {
   "cell_type": "markdown",
   "metadata": {},
   "source": [
    "Now let's upload the definition using the boto3 client object using the roleArn parameter defined previously. Generate an error  if the name already exists. "
   ]
  },
  {
   "cell_type": "code",
   "execution_count": 12,
   "metadata": {},
   "outputs": [],
   "source": [
    "try:\n",
    "  client_sf.create_state_machine(\n",
    "   name=sfWFName,\n",
    "   roleArn=awsSfRoleName,\n",
    "   definition=sf_def)\n",
    "\n",
    "except ClientError as e:\n",
    "    if e.response['Error']['Code'] == 'StateMachineAlreadyExists':\n",
    "        print(\"Error: State Machine already exists at AWS Stepfunctions\")\n",
    "    else:\n",
    "        print(\"Unexpected error: %s\" % e)"
   ]
  },
  {
   "cell_type": "markdown",
   "metadata": {},
   "source": [
    "Now execute the state machine we've just created ans AWS StepFunctions with a sample payload JSON string"
   ]
  },
  {
   "cell_type": "code",
   "execution_count": 13,
   "metadata": {},
   "outputs": [],
   "source": [
    "response = client_sf.start_execution(\n",
    "    stateMachineArn=\"arn:aws:states:eu-central-1:218181671562:stateMachine:CallCenterStateMachine\", #% (user_id, sfWFName),\n",
    "    input='{\\\"inputCaseID\\\" : \\\"001\\\"}'\n",
    ")"
   ]
  },
  {
   "cell_type": "markdown",
   "metadata": {},
   "source": [
    "Executions on AWS Stepfunctions are asyncronous. From the start_execution response we can get an \"executionArn\" which we can use to query for the execution result."
   ]
  },
  {
   "cell_type": "code",
   "execution_count": 14,
   "metadata": {},
   "outputs": [],
   "source": [
    "executionArn = response['executionArn']"
   ]
  },
  {
   "cell_type": "markdown",
   "metadata": {},
   "source": [
    "Let's now have a closer look at the AWS SF exection result:"
   ]
  },
  {
   "cell_type": "code",
   "execution_count": 15,
   "metadata": {},
   "outputs": [],
   "source": [
    "response = client_sf.get_execution_history(executionArn=executionArn)"
   ]
  },
  {
   "cell_type": "code",
   "execution_count": 16,
   "metadata": {},
   "outputs": [
    {
     "name": "stdout",
     "output_type": "stream",
     "text": [
      "{\"Case\": \"001\", \"Message\": \"Case 001: opened...\"}\n",
      "{\"Case\": \"001\", \"Message\": \"Case 001: opened...assigned...\"}\n",
      "{\"Case\": \"001\", \"Status\": 1, \"Message\": \"Case 001: opened...assigned...\"}\n",
      "{\"Case\": \"001\", \"Status\": 1, \"Message\": \"Case 001: opened...assigned...\"}\n",
      "{\"Case\": \"001\", \"Status\": 1, \"Message\": \"Case 001: opened...assigned...closed.\"}\n"
     ]
    }
   ],
   "source": [
    "#print(response)\n",
    "for ev in response['events']:        \n",
    "        if \"stateExitedEventDetails\" in ev:\n",
    "            print(str(ev[\"stateExitedEventDetails\"][\"output\"]))"
   ]
  },
  {
   "cell_type": "markdown",
   "metadata": {},
   "source": [
    "So, our migrated KNIX State Machine executes successfully on AWS! "
   ]
  },
  {
   "cell_type": "markdown",
   "metadata": {},
   "source": [
    "![State Machine imported from KNIX into AWS Stepfunctions](stepfunctions_graph.png)"
   ]
  }
 ],
 "metadata": {
  "kernelspec": {
   "display_name": "Python 3",
   "language": "python",
   "name": "python3"
  },
  "language_info": {
   "codemirror_mode": {
    "name": "ipython",
    "version": 3
   },
   "file_extension": ".py",
   "mimetype": "text/x-python",
   "name": "python",
   "nbconvert_exporter": "python",
   "pygments_lexer": "ipython3",
   "version": "3.6.9"
  }
 },
 "nbformat": 4,
 "nbformat_minor": 4
}
